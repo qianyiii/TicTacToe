{
 "cells": [
  {
   "cell_type": "code",
   "execution_count": null,
   "id": "b0bbd1c0-0d6b-4d74-88e6-cc1203497be8",
   "metadata": {},
   "outputs": [
    {
     "name": "stdout",
     "output_type": "stream",
     "text": [
      "\u001b[94mWelcome to Tic-Tac-Toe!\u001b[0m\n",
      "\n",
      "Positions are as follows:\n",
      "\n",
      "top-l|top-c|top-r\n",
      "-----+-----+-----\n",
      "mid-l|mid-c|mid-r\n",
      "-----+-----+-----\n",
      "bot-l|bot-c|bot-r\n",
      "\n",
      "\u001b[93mLet's start the game!\u001b[0m\n",
      "\n",
      "  |   |  \n",
      "--+---+---\n",
      "  |   |  \n",
      "--+---+---\n",
      "  |   |  \n",
      "Player X, enter your move (e.g., top-l, mid-c):\n"
     ]
    },
    {
     "name": "stdin",
     "output_type": "stream",
     "text": [
      " bot-l\n"
     ]
    },
    {
     "name": "stdout",
     "output_type": "stream",
     "text": [
      "  |   |  \n",
      "--+---+---\n",
      "  |   |  \n",
      "--+---+---\n",
      "\u001b[91mX\u001b[0m |   |  \n",
      "Player O, enter your move (e.g., top-l, mid-c):\n"
     ]
    },
    {
     "name": "stdin",
     "output_type": "stream",
     "text": [
      " top-l\n"
     ]
    },
    {
     "name": "stdout",
     "output_type": "stream",
     "text": [
      "\u001b[94mO\u001b[0m |   |  \n",
      "--+---+---\n",
      "  |   |  \n",
      "--+---+---\n",
      "\u001b[91mX\u001b[0m |   |  \n",
      "Player X, enter your move (e.g., top-l, mid-c):\n"
     ]
    },
    {
     "name": "stdin",
     "output_type": "stream",
     "text": [
      " top-l\n"
     ]
    },
    {
     "name": "stdout",
     "output_type": "stream",
     "text": [
      "\u001b[91mPosition top-l already taken! Please try another move.\u001b[0m\n",
      "\u001b[94mO\u001b[0m |   |  \n",
      "--+---+---\n",
      "  |   |  \n",
      "--+---+---\n",
      "\u001b[91mX\u001b[0m |   |  \n",
      "Player X, enter your move (e.g., top-l, mid-c):\n"
     ]
    },
    {
     "name": "stdin",
     "output_type": "stream",
     "text": [
      " o\n"
     ]
    },
    {
     "name": "stdout",
     "output_type": "stream",
     "text": [
      "\u001b[91mInvalid move! Try again.\u001b[0m\n",
      "\u001b[94mO\u001b[0m |   |  \n",
      "--+---+---\n",
      "  |   |  \n",
      "--+---+---\n",
      "\u001b[91mX\u001b[0m |   |  \n",
      "Player X, enter your move (e.g., top-l, mid-c):\n"
     ]
    }
   ],
   "source": [
    "class TicTacToe:\n",
    "    def __init__(self):\n",
    "        self.board = {\n",
    "            'top-l': ' ', 'top-c': ' ', 'top-r': ' ',\n",
    "            'mid-l': ' ', 'mid-c': ' ', 'mid-r': ' ',\n",
    "            'bot-l': ' ', 'bot-c': ' ', 'bot-r': ' '\n",
    "        }\n",
    "        self.current_player = 'X'\n",
    "\n",
    "    def color_text(self, text, color):\n",
    "        colors = {\n",
    "            'red': '\\033[91m',\n",
    "            'green': '\\033[92m',\n",
    "            'yellow': '\\033[93m',\n",
    "            'blue': '\\033[94m',\n",
    "            'magenta': '\\033[95m',\n",
    "            'cyan': '\\033[96m',\n",
    "            'reset': '\\033[0m'\n",
    "        }\n",
    "        return f\"{colors[color]}{text}{colors['reset']}\"\n",
    "\n",
    "    def print_board(self):\n",
    "        def colored_cell(cell):\n",
    "            if self.board[cell] == 'X':\n",
    "                return self.color_text(self.board[cell], 'red')\n",
    "            elif self.board[cell] == 'O':\n",
    "                return self.color_text(self.board[cell], 'blue')\n",
    "            else:\n",
    "                return self.board[cell]\n",
    "\n",
    "        print(f\"{colored_cell('top-l')} | {colored_cell('top-c')} | {colored_cell('top-r')}\")\n",
    "        print(\"--+---+---\")\n",
    "        print(f\"{colored_cell('mid-l')} | {colored_cell('mid-c')} | {colored_cell('mid-r')}\")\n",
    "        print(\"--+---+---\")\n",
    "        print(f\"{colored_cell('bot-l')} | {colored_cell('bot-c')} | {colored_cell('bot-r')}\")\n",
    "\n",
    "    def check_winner(self):\n",
    "        lines = [\n",
    "            # rows\n",
    "            ['top-l', 'top-c', 'top-r'],\n",
    "            ['mid-l', 'mid-c', 'mid-r'],\n",
    "            ['bot-l', 'bot-c', 'bot-r'],\n",
    "            # columns\n",
    "            ['top-l', 'mid-l', 'bot-l'],\n",
    "            ['top-c', 'mid-c', 'bot-c'],\n",
    "            ['top-r', 'mid-r', 'bot-r'],\n",
    "            # diagonals\n",
    "            ['top-l', 'mid-c', 'bot-r'],\n",
    "            ['top-r', 'mid-c', 'bot-l']\n",
    "        ]\n",
    "        \n",
    "        for line in lines:\n",
    "            if self.board[line[0]] == self.board[line[1]] == self.board[line[2]] != ' ':\n",
    "                return self.board[line[0]]\n",
    "        return None\n",
    "\n",
    "    def is_board_full(self):\n",
    "        for key in self.board:\n",
    "            if self.board[key] == ' ':\n",
    "                return False\n",
    "        return True\n",
    "\n",
    "    def play_game(self):\n",
    "        print(self.color_text(\"Welcome to Tic-Tac-Toe!\", 'blue'))\n",
    "        print()\n",
    "        print(\"Positions are as follows:\")\n",
    "        print()\n",
    "        print(\"top-l|top-c|top-r\")\n",
    "        print(\"-----+-----+-----\")\n",
    "        print(\"mid-l|mid-c|mid-r\")\n",
    "        print(\"-----+-----+-----\")\n",
    "        print(\"bot-l|bot-c|bot-r\")\n",
    "        print()\n",
    "        print(self.color_text(\"Let's start the game!\", 'yellow'))\n",
    "        print()\n",
    "\n",
    "        while True:\n",
    "            self.print_board()\n",
    "            print(f\"Player {self.current_player}, enter your move (e.g., top-l, mid-c):\")\n",
    "            move = input().strip()\n",
    "\n",
    "            if move not in self.board:\n",
    "                print(self.color_text(\"Invalid move! Try again.\", 'red'))\n",
    "                continue\n",
    "            \n",
    "            if self.board[move] != ' ':\n",
    "                print(self.color_text(f\"Position {move} already taken! Please try another move.\", 'red'))\n",
    "                continue\n",
    "\n",
    "            self.board[move] = self.current_player\n",
    "            winner = self.check_winner()\n",
    "\n",
    "            if winner:\n",
    "                self.print_board()\n",
    "                print(self.color_text(f\"Congratulations! Player {winner} wins!\", 'green'))\n",
    "                break\n",
    "            elif self.is_board_full():\n",
    "                self.print_board()\n",
    "                print(\"Draw!\")\n",
    "                break\n",
    "            else:\n",
    "                # Switch turn\n",
    "                self.current_player = 'O' if self.current_player == 'X' else 'X'\n",
    "\n",
    "\n",
    "if __name__ == \"__main__\":\n",
    "    game = TicTacToe()\n",
    "    game.play_game()\n"
   ]
  },
  {
   "cell_type": "code",
   "execution_count": null,
   "id": "516220b9-1fd2-4644-bd24-79bd26d9bd02",
   "metadata": {},
   "outputs": [],
   "source": []
  }
 ],
 "metadata": {
  "kernelspec": {
   "display_name": "Python 3 (ipykernel)",
   "language": "python",
   "name": "python3"
  },
  "language_info": {
   "codemirror_mode": {
    "name": "ipython",
    "version": 3
   },
   "file_extension": ".py",
   "mimetype": "text/x-python",
   "name": "python",
   "nbconvert_exporter": "python",
   "pygments_lexer": "ipython3",
   "version": "3.11.7"
  }
 },
 "nbformat": 4,
 "nbformat_minor": 5
}
